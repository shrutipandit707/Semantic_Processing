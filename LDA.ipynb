{
 "cells": [
  {
   "cell_type": "code",
   "execution_count": 1,
   "metadata": {},
   "outputs": [],
   "source": [
    "import nltk\n",
    "\n",
    "#Create a sample corpus\n",
    "\n",
    "d1 = 'Symptoms of diabetes include frequent urination, increased thirst, and increased hunger'\n",
    "d2 = 'Simple sugars are called monosaccharides and include glucose also known as dextrose, fructose and galactose'\n",
    "d3 = 'Prevention and treatment of diabetes involve maintaining a healthy diet, regular physical exercise, a normal body weight, and avoiding use of tobacco'\n",
    "d4 = 'Insulin and some oral medications can cause low blood sugar'\n",
    "\n",
    "corpora = [d1, d2, d3, d4]\n"
   ]
  },
  {
   "cell_type": "code",
   "execution_count": 2,
   "metadata": {},
   "outputs": [],
   "source": [
    "from nltk.corpus import stopwords\n",
    "from nltk.stem.wordnet import WordNetLemmatizer\n",
    "import string\n",
    "\n",
    "lemma = WordNetLemmatizer()"
   ]
  },
  {
   "cell_type": "code",
   "execution_count": 11,
   "metadata": {},
   "outputs": [
    {
     "name": "stdout",
     "output_type": "stream",
     "text": [
      "[['symptom', 'diabetes', 'include', 'frequent', 'urination,', 'increased', 'thirst,', 'increased', 'hunger'], ['simple', 'sugar', 'called', 'monosaccharide', 'include', 'glucose', 'also', 'known', 'dextrose,', 'fructose', 'galactose'], ['prevention', 'treatment', 'diabetes', 'involve', 'maintaining', 'healthy', 'diet,', 'regular', 'physical', 'exercise,', 'normal', 'body', 'weight,', 'avoiding', 'use', 'tobacco'], ['insulin', 'oral', 'medication', 'cause', 'low', 'blood', 'sugar']]\n"
     ]
    }
   ],
   "source": [
    "#Clean the data by removing stopwords, punctuation, and lemmatizing the words\n",
    "def clean(doc):\n",
    "    sdoc = \" \".join([i for i in doc.lower().split() if i not in set(stopwords.words('english'))])\n",
    "    pdoc = \" \".join([ch for ch in sdoc.split() if ch not in set(set(string.punctuation))])\n",
    "    cleaned = \" \".join([lemma.lemmatize(w) for w in pdoc.split()])\n",
    "    return cleaned\n",
    "    \n",
    "cleaned_corpora = [clean(doc).split() for doc in corpora]\n",
    "print(cleaned_corpora)"
   ]
  },
  {
   "cell_type": "code",
   "execution_count": 15,
   "metadata": {},
   "outputs": [
    {
     "name": "stdout",
     "output_type": "stream",
     "text": [
      "[[(0, 1), (1, 1), (2, 1), (3, 1), (4, 2), (5, 1), (6, 1), (7, 1)], [(3, 1), (8, 1), (9, 1), (10, 1), (11, 1), (12, 1), (13, 1), (14, 1), (15, 1), (16, 1), (17, 1)], [(0, 1), (18, 1), (19, 1), (20, 1), (21, 1), (22, 1), (23, 1), (24, 1), (25, 1), (26, 1), (27, 1), (28, 1), (29, 1), (30, 1), (31, 1), (32, 1)], [(17, 1), (33, 1), (34, 1), (35, 1), (36, 1), (37, 1), (38, 1)]]\n"
     ]
    }
   ],
   "source": [
    "import gensim\n",
    "from gensim import corpora\n",
    "\n",
    "#Create term document matrix using gensim\n",
    "dictionary = corpora.Dictionary(cleaned_corpora)\n",
    "doc_term_matrix = [dictionary.doc2bow(doc) for doc in cleaned_corpora]\n",
    "\n",
    "print(doc_term_matrix)"
   ]
  },
  {
   "cell_type": "code",
   "execution_count": 16,
   "metadata": {},
   "outputs": [
    {
     "name": "stdout",
     "output_type": "stream",
     "text": [
      "[(0, '0.080*\"increased\" + 0.046*\"include\" + 0.046*\"sugar\"'), (1, '0.033*\"treatment\" + 0.033*\"body\" + 0.033*\"maintaining\"'), (2, '0.026*\"sugar\" + 0.026*\"include\" + 0.026*\"diabetes\"')]\n"
     ]
    }
   ],
   "source": [
    "#Run LDA using gensim LdaModel class\n",
    "#Hyperparameter k specified as num_topics\n",
    "\n",
    "Lda = gensim.models.ldamodel.LdaModel\n",
    "ldamodel = Lda(doc_term_matrix, num_topics = 3, id2word = dictionary, passes = 30)\n",
    "print(ldamodel.print_topics(num_topics = 3, num_words = 3))"
   ]
  },
  {
   "cell_type": "code",
   "execution_count": null,
   "metadata": {},
   "outputs": [],
   "source": []
  }
 ],
 "metadata": {
  "kernelspec": {
   "display_name": "Python 3",
   "language": "python",
   "name": "python3"
  },
  "language_info": {
   "codemirror_mode": {
    "name": "ipython",
    "version": 3
   },
   "file_extension": ".py",
   "mimetype": "text/x-python",
   "name": "python",
   "nbconvert_exporter": "python",
   "pygments_lexer": "ipython3",
   "version": "3.6.3"
  }
 },
 "nbformat": 4,
 "nbformat_minor": 2
}
